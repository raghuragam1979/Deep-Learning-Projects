{
 "cells": [
  {
   "cell_type": "markdown",
   "metadata": {},
   "source": [
    "# DEEP LEARNING - PROJECT SUBMISSION #"
   ]
  },
  {
   "cell_type": "markdown",
   "metadata": {},
   "source": [
    "## Project: Implementation Image Classification ##"
   ]
  },
  {
   "cell_type": "markdown",
   "metadata": {},
   "source": [
    "In this project, you'll classify images from the CIFAR-10 dataset. The dataset consists of airplanes, dogs, cats, and other objects. You'll preprocess the images, then train a convolutional neural network on all the samples. The images need to be normalized and the labels need to be one-hot encoded. You'll get to apply what you learned and build a convolutional, max pooling, dropout, and fully connected layers. At the end, you'll get to see your neural network's predictions on the sample images."
   ]
  },
  {
   "cell_type": "markdown",
   "metadata": {},
   "source": [
    "### Get the Data ###"
   ]
  },
  {
   "cell_type": "markdown",
   "metadata": {},
   "source": [
    "Run the following cell to download the CIFAR-10 dataset for python"
   ]
  },
  {
   "cell_type": "markdown",
   "metadata": {},
   "source": [
    "### Data ###"
   ]
  },
  {
   "cell_type": "markdown",
   "metadata": {},
   "source": [
    "CIFAR-10 is an established computer-vision dataset used for object recognition. It is a subset of the 80 million tiny images dataset and consists of 60,000 32x32 color images containing one of 10 object classes, with 6000 images per class. It was collected by Alex Krizhevsky, Vinod Nair, and Geoffrey Hinton.\n",
    "\n",
    "Let's get the data by running the following function"
   ]
  },
  {
   "cell_type": "code",
   "execution_count": 3,
   "metadata": {},
   "outputs": [],
   "source": [
    "from urllib.request import urlretrieve\n",
    "from os.path import isfile, isdir\n",
    "from tqdm import tqdm\n",
    "import tarfile"
   ]
  },
  {
   "cell_type": "code",
   "execution_count": 5,
   "metadata": {},
   "outputs": [],
   "source": [
    "cifar10_dataset_folder_path = 'cifar-10-batches-py'\n",
    "\n",
    "class DLProgress(tqdm):\n",
    "    last_block = 0\n",
    "\n",
    "    def hook(self, block_num=1, block_size=1, total_size=None):\n",
    "        self.total = total_size\n",
    "        self.update((block_num - self.last_block) * block_size)\n",
    "        self.last_block = block_num\n",
    "\n",
    "if not isfile('cifar-10-python.tar.gz'):\n",
    "    with DLProgress(unit='B', unit_scale=True, miniters=1, desc='CIFAR-10 Dataset') as pbar:\n",
    "        urlretrieve(\n",
    "            'https://www.cs.toronto.edu/~kriz/cifar-10-python.tar.gz',\n",
    "            'cifar-10-python.tar.gz',\n",
    "            pbar.hook)\n",
    "\n",
    "if not isdir(cifar10_dataset_folder_path):\n",
    "    with tarfile.open('cifar-10-python.tar.gz') as tar:\n",
    "        tar.extractall()\n",
    "        tar.close()"
   ]
  },
  {
   "cell_type": "markdown",
   "metadata": {},
   "source": [
    "### Explore the Data ###"
   ]
  },
  {
   "cell_type": "markdown",
   "metadata": {},
   "source": [
    "The dataset is broken into batches to prevent your machine from running out of memory. The CIFAR-10 dataset consists of 5 batches, named data_batch_1, data_batch_2, etc.. Each batch contains the labels and images that are one of the following:\n",
    "    \n",
    "* airplane\n",
    "* automobile\n",
    "* bird\n",
    "* cat\n",
    "* deer\n",
    "* dog\n",
    "* frog\n",
    "* horse\n",
    "* ship\n",
    "* truck"
   ]
  },
  {
   "cell_type": "markdown",
   "metadata": {},
   "source": [
    "Understanding a dataset is part of making predictions on the data. Play around with the code cell below by changing the batch_id and sample_id. The batch_id is the id for a batch (1-5). The sample_id is the id for a image and label pair in the batch. \n",
    " \n",
    "Ask yourself \"What are all possible labels?\", \"What is the range of values for the image data?\", \"Are the labels in order or random?\". Answers to questions like these will help you preprocess the data and end up with better predictions. "
   ]
  },
  {
   "cell_type": "markdown",
   "metadata": {},
   "source": [
    "### The following are some helper functions students can use in their code ###"
   ]
  },
  {
   "cell_type": "code",
   "execution_count": 6,
   "metadata": {},
   "outputs": [],
   "source": [
    "import pickle\n",
    "import numpy as np\n",
    "import matplotlib.pyplot as plt\n",
    "from sklearn.preprocessing import LabelBinarizer"
   ]
  },
  {
   "cell_type": "code",
   "execution_count": 7,
   "metadata": {},
   "outputs": [],
   "source": [
    "def _load_label_names():\n",
    "    \"\"\"\n",
    "    Load the label names from file\n",
    "    \"\"\"\n",
    "    return ['airplane', 'automobile', 'bird', 'cat', 'deer', 'dog', 'frog', 'horse', 'ship', 'truck']\n",
    "def load_cfar10_batch(cifar10_dataset_folder_path, batch_id):\n",
    "    \"\"\"\n",
    "    Load a batch of the dataset\n",
    "    \"\"\"\n",
    "    with open(cifar10_dataset_folder_path + '/data_batch_' + str(batch_id), mode='rb') as file:\n",
    "        batch = pickle.load(file, encoding='latin1')\n",
    "    features = batch['data'].reshape((len(batch['data']), 3, 32, 32)).transpose(0, 2, 3, 1)\n",
    "    labels = batch['labels']\n",
    "    return features, labels"
   ]
  },
  {
   "cell_type": "code",
   "execution_count": 8,
   "metadata": {},
   "outputs": [],
   "source": [
    "def display_stats(cifar10_dataset_folder_path, batch_id, sample_id):\n",
    "    \"\"\"\n",
    "    Display Stats of the the dataset\n",
    "    \"\"\"\n",
    "    batch_ids = list(range(1, 6))\n",
    "\n",
    "    if batch_id not in batch_ids:\n",
    "        print('Batch Id out of Range. Possible Batch Ids: {}'.format(batch_ids))\n",
    "        return None\n",
    "    features, labels = load_cfar10_batch(cifar10_dataset_folder_path, batch_id)\n",
    "    if not (0 <= sample_id < len(features)):\n",
    "        print('{} samples in batch {}. {} is out of range.'.format(len(features), batch_id, sample_id))\n",
    "        return None\n",
    "    print('\\nStats of batch {}:'.format(batch_id))\n",
    "    print('Samples: {}'.format(len(features)))\n",
    "    print('Label Counts: {}'.format(dict(zip(*np.unique(labels, return_counts=True)))))\n",
    "    print('First 20 Labels: {}'.format(labels[:20]))\n",
    "\n",
    "    sample_image = features[sample_id]\n",
    "    sample_label = labels[sample_id]\n",
    "    label_names = _load_label_names()\n",
    "\n",
    "    print('\\nExample of Image {}:'.format(sample_id))\n",
    "    print('Image - Min Value: {} Max Value: {}'.format(sample_image.min(), sample_image.max()))\n",
    "    print('Image - Shape: {}'.format(sample_image.shape))\n",
    "    print('Label - Label Id: {} Name: {}'.format(sample_label, label_names[sample_label]))\n",
    "    plt.axis('off')\n",
    "    plt.imshow(sample_image)"
   ]
  },
  {
   "cell_type": "code",
   "execution_count": 9,
   "metadata": {},
   "outputs": [],
   "source": [
    "def _preprocess_and_save(normalize, one_hot_encode, features, labels, filename):\n",
    "    \"\"\"\n",
    "    Preprocess data and save it to file\n",
    "    \"\"\"\n",
    "    features = normalize(features)\n",
    "    labels = one_hot_encode(labels)\n",
    "    pickle.dump((features, labels), open(filename, 'wb'))"
   ]
  },
  {
   "cell_type": "code",
   "execution_count": 10,
   "metadata": {},
   "outputs": [],
   "source": [
    "def preprocess_and_save_data(cifar10_dataset_folder_path, normalize, one_hot_encode):\n",
    "    \"\"\"\n",
    "    Preprocess Training and Validation Data\n",
    "    \"\"\"\n",
    "    n_batches = 5\n",
    "    valid_features = []\n",
    "    valid_labels = []\n",
    "    for batch_i in range(1, n_batches + 1):\n",
    "        features, labels = load_cfar10_batch(cifar10_dataset_folder_path, batch_i)\n",
    "        validation_count = int(len(features) * 0.1)\n",
    "    # Prprocess and save a batch of trainingdata \n",
    "        _preprocess_and_save(\n",
    "        normalize,\n",
    "        one_hot_encode, features[:-\n",
    "        validation_count], labels[:-\n",
    "        validation_count], 'preprocess_batch_'\n",
    "        + str(batch_i) + '.p')\n",
    "    # Use a portion of training batch for validation\n",
    "    valid_features.extend(features[-validation_count:])\n",
    "    valid_labels.extend(labels[-validation_count:])\n",
    "\n",
    "# Preprocess and Save all validation data\n",
    "    _preprocess_and_save(\n",
    "        normalize,\n",
    "        one_hot_encode,\n",
    "        np.array(valid_features),\n",
    "        np.array(valid_labels),\n",
    "        'preprocess_validation.p')\n",
    "\n",
    "    with open(cifar10_dataset_folder_path + '/test_batch', mode='rb') as file:\n",
    "        batch = pickle.load(file, encoding='latin1')\n",
    "    # load the training data\n",
    "    test_features = batch['data'].reshape((len(batch['data']), 3, 32, 32)).transpose(0, 2, 3, 1)\n",
    "    test_labels = batch['labels']\n",
    "    \n",
    "    # Preprocess and Save all training data \n",
    "    _preprocess_and_save(\n",
    "        normalize,\n",
    "        one_hot_encode,\n",
    "        np.array(test_features),\n",
    "        np.array(test_labels),\n",
    "        'preprocess_training.p')"
   ]
  },
  {
   "cell_type": "code",
   "execution_count": 11,
   "metadata": {},
   "outputs": [],
   "source": [
    "def batch_features_labels(features, labels, batch_size):\n",
    "    \"\"\"\n",
    "    Split features and labels into batches\n",
    "    \"\"\"\n",
    "    for start in range(0, len(features), batch_size):\n",
    "        end = min(start + batch_size, len(features))\n",
    "        yield features[start:end], labels[start:end]"
   ]
  },
  {
   "cell_type": "code",
   "execution_count": 12,
   "metadata": {},
   "outputs": [],
   "source": [
    "def load_preprocess_training_batch(batch_id, batch_size):\n",
    "    \"\"\"\n",
    "    Load the Preprocessed Training data and return them in batches of <batch_size> or less\n",
    "    \"\"\"\n",
    "    filename = 'preprocess_batch_' + str(batch_id) + '.p'\n",
    "    features, labels = pickle.load(open(filename, mode='rb'))\n",
    "    \n",
    "    # Return the training data in batches of size <batch_size> or less\n",
    "    return batch_features_labels(features, labels, batch_size)"
   ]
  },
  {
   "cell_type": "code",
   "execution_count": 13,
   "metadata": {},
   "outputs": [],
   "source": [
    "def display_image_predictions(features, labels, predictions):\n",
    "    n_classes = 10\n",
    "    label_names = _load_label_names()\n",
    "    label_binarizer = LabelBinarizer()\n",
    "    label_binarizer.fit(range(n_classes))\n",
    "    label_ids = label_binarizer.inverse_transform(np.array(labels))\n",
    "    \n",
    "    fig, axies = plt.subplots(nrows=4, ncols=2)\n",
    "    fig.tight_layout()\n",
    "    fig.suptitle('Softmax Predictions', fontsize=20, y=1.1)\n",
    "    \n",
    "    n_predictions = 3\n",
    "    margin = 0.05\n",
    "    ind = np.arange(n_predictions)\n",
    "    width = (1. - 2. * margin) / n_predictions\n",
    "    \n",
    "    for image_i, (feature, label_id, pred_indicies, pred_values) in enumerate(zip(features, label_ids, predictions.indices, predictions.values)):\n",
    "        pred_names = [label_names[pred_i] for pred_i in pred_indicies] \n",
    "        correct_name = label_names[label_id]\n",
    "    \n",
    "        axies[image_i][0].imshow(feature*255)\n",
    "        axies[image_i][0].set_title(correct_name)\n",
    "        axies[image_i][0].set_axis_off()\n",
    "        \n",
    "        axies[image_i][1].barh(ind + margin, pred_values[::-1], width)\n",
    "        axies[image_i][1].set_yticks(ind + margin)\n",
    "        axies[image_i][1].set_yticklabels(pred_names[::-1])\n",
    "        axies[image_i][1].set_xticks([0, 0.5, 1.0])"
   ]
  },
  {
   "cell_type": "code",
   "execution_count": 14,
   "metadata": {},
   "outputs": [],
   "source": [
    "%matplotlib inline\n",
    "%config InlineBackend.figure_format = 'retina'\n",
    "import numpy as np"
   ]
  },
  {
   "cell_type": "code",
   "execution_count": 15,
   "metadata": {
    "scrolled": false
   },
   "outputs": [
    {
     "name": "stdout",
     "output_type": "stream",
     "text": [
      "\n",
      "Stats of batch 3:\n",
      "Samples: 10000\n",
      "Label Counts: {0: 994, 1: 1042, 2: 965, 3: 997, 4: 990, 5: 1029, 6: 978, 7: 1015, 8: 961, 9: 1029}\n",
      "First 20 Labels: [8, 5, 0, 6, 9, 2, 8, 3, 6, 2, 7, 4, 6, 9, 0, 0, 7, 3, 7, 2]\n",
      "\n",
      "Example of Image 5:\n",
      "Image - Min Value: 9 Max Value: 255\n",
      "Image - Shape: (32, 32, 3)\n",
      "Label - Label Id: 2 Name: bird\n"
     ]
    },
    {
     "data": {
      "image/png": "[encoded data removed]",
      "text/plain": [
       "<Figure size 432x288 with 1 Axes>"
      ]
     },
     "metadata": {
      "image/png": {
       "height": 248,
       "width": 251
      },
      "needs_background": "light"
     },
     "output_type": "display_data"
    }
   ],
   "source": [
    "# Explore the dataset \n",
    "batch_id = 3\n",
    "sample_id = 5\n",
    "display_stats(cifar10_dataset_folder_path, batch_id, sample_id)\n"
   ]
  },
  {
   "cell_type": "markdown",
   "metadata": {},
   "source": [
    "### Load data & normalize"
   ]
  },
  {
   "cell_type": "code",
   "execution_count": 16,
   "metadata": {},
   "outputs": [],
   "source": [
    "# Put file path as a string here\n",
    "CIFAR_DIR = 'cifar-10-batches-py/'"
   ]
  },
  {
   "cell_type": "code",
   "execution_count": 17,
   "metadata": {},
   "outputs": [],
   "source": [
    "def unpickle(file):\n",
    "    import pickle\n",
    "    with open(file, 'rb') as fo:\n",
    "        cifar_dict = pickle.load(fo, encoding='bytes')\n",
    "    return cifar_dict"
   ]
  },
  {
   "cell_type": "code",
   "execution_count": 18,
   "metadata": {},
   "outputs": [],
   "source": [
    "dirs = ['batches.meta','data_batch_1','data_batch_2','data_batch_3','data_batch_4','data_batch_5','test_batch']"
   ]
  },
  {
   "cell_type": "code",
   "execution_count": 19,
   "metadata": {},
   "outputs": [],
   "source": [
    "all_data = [0,1,2,3,4,5,6]"
   ]
  },
  {
   "cell_type": "code",
   "execution_count": 20,
   "metadata": {},
   "outputs": [],
   "source": [
    "for i,direc in zip(all_data,dirs):\n",
    "    all_data[i] = unpickle(CIFAR_DIR+direc)"
   ]
  },
  {
   "cell_type": "code",
   "execution_count": 21,
   "metadata": {},
   "outputs": [],
   "source": [
    "batch_meta = all_data[0]\n",
    "data_batch1 = all_data[1]\n",
    "data_batch2 = all_data[2]\n",
    "data_batch3 = all_data[3]\n",
    "data_batch4 = all_data[4]\n",
    "data_batch5 = all_data[5]\n",
    "test_batch = all_data[6]"
   ]
  },
  {
   "cell_type": "code",
   "execution_count": 22,
   "metadata": {},
   "outputs": [
    {
     "data": {
      "text/plain": [
       "{b'num_cases_per_batch': 10000,\n",
       " b'label_names': [b'airplane',\n",
       "  b'automobile',\n",
       "  b'bird',\n",
       "  b'cat',\n",
       "  b'deer',\n",
       "  b'dog',\n",
       "  b'frog',\n",
       "  b'horse',\n",
       "  b'ship',\n",
       "  b'truck'],\n",
       " b'num_vis': 3072}"
      ]
     },
     "execution_count": 22,
     "metadata": {},
     "output_type": "execute_result"
    }
   ],
   "source": [
    "batch_meta #batch_meta[b\"label_names\"]"
   ]
  },
  {
   "cell_type": "code",
   "execution_count": 23,
   "metadata": {},
   "outputs": [
    {
     "data": {
      "text/plain": [
       "dict_keys([b'batch_label', b'labels', b'data', b'filenames'])"
      ]
     },
     "execution_count": 23,
     "metadata": {},
     "output_type": "execute_result"
    }
   ],
   "source": [
    "data_batch1.keys()"
   ]
  },
  {
   "cell_type": "code",
   "execution_count": 24,
   "metadata": {},
   "outputs": [],
   "source": [
    "import matplotlib.pyplot as plt\n",
    "%matplotlib inline\n",
    "\n",
    "import numpy as np"
   ]
  },
  {
   "cell_type": "code",
   "execution_count": 25,
   "metadata": {},
   "outputs": [],
   "source": [
    "X = data_batch1[b\"data\"]"
   ]
  },
  {
   "cell_type": "code",
   "execution_count": 26,
   "metadata": {},
   "outputs": [],
   "source": [
    "#Append X data\n",
    "X = np.append(X,data_batch2[b\"data\"],axis=0)\n",
    "X = np.append(X,data_batch3[b\"data\"],axis=0)\n",
    "X = np.append(X,data_batch4[b\"data\"],axis=0)\n",
    "X = np.append(X,data_batch5[b\"data\"],axis=0)"
   ]
  },
  {
   "cell_type": "code",
   "execution_count": 27,
   "metadata": {},
   "outputs": [
    {
     "data": {
      "text/plain": [
       "(50000, 3072)"
      ]
     },
     "execution_count": 27,
     "metadata": {},
     "output_type": "execute_result"
    }
   ],
   "source": [
    "X.shape"
   ]
  },
  {
   "cell_type": "code",
   "execution_count": 28,
   "metadata": {},
   "outputs": [],
   "source": [
    "X_train = X.reshape(50000, 3, 32, 32).transpose(0,2,3,1).astype(\"uint8\")"
   ]
  },
  {
   "cell_type": "code",
   "execution_count": 29,
   "metadata": {},
   "outputs": [
    {
     "data": {
      "text/plain": [
       "255"
      ]
     },
     "execution_count": 29,
     "metadata": {},
     "output_type": "execute_result"
    }
   ],
   "source": [
    "X_train.max()"
   ]
  },
  {
   "cell_type": "code",
   "execution_count": 30,
   "metadata": {},
   "outputs": [],
   "source": [
    "#Normalize it for color\n",
    "X_train=(X_train/255)"
   ]
  },
  {
   "cell_type": "code",
   "execution_count": 31,
   "metadata": {},
   "outputs": [],
   "source": [
    "X_test = test_batch[b\"data\"]"
   ]
  },
  {
   "cell_type": "code",
   "execution_count": 32,
   "metadata": {},
   "outputs": [
    {
     "data": {
      "text/plain": [
       "(10000, 3072)"
      ]
     },
     "execution_count": 32,
     "metadata": {},
     "output_type": "execute_result"
    }
   ],
   "source": [
    "X_test.shape"
   ]
  },
  {
   "cell_type": "code",
   "execution_count": 33,
   "metadata": {},
   "outputs": [],
   "source": [
    "X_test = X_test.reshape(10000, 3, 32, 32).transpose(0,2,3,1).astype(\"uint8\")"
   ]
  },
  {
   "cell_type": "code",
   "execution_count": 34,
   "metadata": {},
   "outputs": [
    {
     "data": {
      "text/plain": [
       "255"
      ]
     },
     "execution_count": 34,
     "metadata": {},
     "output_type": "execute_result"
    }
   ],
   "source": [
    "X_test.max()"
   ]
  },
  {
   "cell_type": "code",
   "execution_count": 35,
   "metadata": {},
   "outputs": [],
   "source": [
    "X_test=(X_test/255)"
   ]
  },
  {
   "cell_type": "code",
   "execution_count": 36,
   "metadata": {},
   "outputs": [],
   "source": [
    "y = data_batch1[b\"labels\"]"
   ]
  },
  {
   "cell_type": "code",
   "execution_count": 37,
   "metadata": {},
   "outputs": [],
   "source": [
    "#Append y values\n",
    "y = np.append(y,data_batch2[b\"labels\"],axis=0)\n",
    "y = np.append(y,data_batch3[b\"labels\"],axis=0)\n",
    "y = np.append(y,data_batch4[b\"labels\"],axis=0)\n",
    "y = np.append(y,data_batch5[b\"labels\"],axis=0)"
   ]
  },
  {
   "cell_type": "code",
   "execution_count": 38,
   "metadata": {},
   "outputs": [
    {
     "data": {
      "text/plain": [
       "(50000,)"
      ]
     },
     "execution_count": 38,
     "metadata": {},
     "output_type": "execute_result"
    }
   ],
   "source": [
    "y.shape"
   ]
  },
  {
   "cell_type": "code",
   "execution_count": 39,
   "metadata": {},
   "outputs": [
    {
     "data": {
      "text/plain": [
       "array([6, 9, 9])"
      ]
     },
     "execution_count": 39,
     "metadata": {},
     "output_type": "execute_result"
    }
   ],
   "source": [
    "y[:3]"
   ]
  },
  {
   "cell_type": "code",
   "execution_count": 40,
   "metadata": {},
   "outputs": [
    {
     "data": {
      "text/plain": [
       "<matplotlib.image.AxesImage at 0x17a316270b8>"
      ]
     },
     "execution_count": 40,
     "metadata": {},
     "output_type": "execute_result"
    },
    {
     "data": {
      "image/png": "[encoded data removed]",
      "text/plain": [
       "<Figure size 432x288 with 1 Axes>"
      ]
     },
     "metadata": {
      "image/png": {
       "height": 250,
       "width": 253
      },
      "needs_background": "light"
     },
     "output_type": "display_data"
    }
   ],
   "source": [
    "plt.imshow(X_train[0])"
   ]
  },
  {
   "cell_type": "code",
   "execution_count": 41,
   "metadata": {},
   "outputs": [
    {
     "data": {
      "text/plain": [
       "<matplotlib.image.AxesImage at 0x17a31889860>"
      ]
     },
     "execution_count": 41,
     "metadata": {},
     "output_type": "execute_result"
    },
    {
     "data": {
      "image/png": "[encoded data removed]",
      "text/plain": [
       "<Figure size 432x288 with 1 Axes>"
      ]
     },
     "metadata": {
      "image/png": {
       "height": 250,
       "width": 253
      },
      "needs_background": "light"
     },
     "output_type": "display_data"
    }
   ],
   "source": [
    "plt.imshow(X_train[1])"
   ]
  },
  {
   "cell_type": "code",
   "execution_count": 42,
   "metadata": {},
   "outputs": [],
   "source": [
    "def one_hot_encode(vec, vals=10):\n",
    "    '''\n",
    "    For use to one-hot encode the 10- possible labels\n",
    "    '''\n",
    "    n = len(vec)\n",
    "    out = np.zeros((n, vals))\n",
    "    out[range(n), vec] = 1\n",
    "    return out"
   ]
  },
  {
   "cell_type": "code",
   "execution_count": 43,
   "metadata": {},
   "outputs": [],
   "source": [
    "class CifarHelper():\n",
    "    \n",
    "    def __init__(self):\n",
    "        self.i = 0\n",
    "        \n",
    "        self.all_train_batches = [data_batch1,data_batch2,data_batch3,data_batch4,data_batch5]\n",
    "        self.test_batch = [test_batch]\n",
    "        \n",
    "        self.training_images = None\n",
    "        self.training_labels = None\n",
    "        \n",
    "        self.test_images = None\n",
    "        self.test_labels = None\n",
    "    \n",
    "    def set_up_images(self):\n",
    "        \n",
    "        print(\"Setting Up Training Images and Labels\")\n",
    "        \n",
    "        self.training_images = np.vstack([d[b\"data\"] for d in self.all_train_batches])\n",
    "        train_len = len(self.training_images)\n",
    "        \n",
    "        self.training_images = self.training_images.reshape(train_len,3,32,32).transpose(0,2,3,1)/255\n",
    "        self.training_labels = one_hot_encode(np.hstack([d[b\"labels\"] for d in self.all_train_batches]), 10)\n",
    "        \n",
    "        print(\"Setting Up Test Images and Labels\")\n",
    "        \n",
    "        self.test_images = np.vstack([d[b\"data\"] for d in self.test_batch])\n",
    "        test_len = len(self.test_images)\n",
    "        \n",
    "        self.test_images = self.test_images.reshape(test_len,3,32,32).transpose(0,2,3,1)/255\n",
    "        self.test_labels = one_hot_encode(np.hstack([d[b\"labels\"] for d in self.test_batch]), 10)\n",
    "\n",
    "        \n",
    "    def next_batch(self, batch_size):\n",
    "        x = self.training_images[self.i:self.i+batch_size].reshape(100,32,32,3)\n",
    "        y = self.training_labels[self.i:self.i+batch_size]\n",
    "        self.i = (self.i + batch_size) % len(self.training_images)\n",
    "        return x, y"
   ]
  },
  {
   "cell_type": "code",
   "execution_count": 44,
   "metadata": {},
   "outputs": [
    {
     "name": "stdout",
     "output_type": "stream",
     "text": [
      "Setting Up Training Images and Labels\n",
      "Setting Up Test Images and Labels\n"
     ]
    }
   ],
   "source": [
    "# Before Your tf.Session run these two lines\n",
    "ch = CifarHelper()\n",
    "ch.set_up_images()\n",
    "\n",
    "# During your session to grab the next batch use this line\n",
    "# (Just like we did for mnist.train.next_batch)\n",
    "# batch = ch.next_batch(100)"
   ]
  },
  {
   "cell_type": "markdown",
   "metadata": {},
   "source": [
    "Create a 2D convolution using builtin conv2d from TF. From those docs:\n",
    "\n",
    "Computes a 2-D convolution given 4-D input and filter tensors.\n",
    "\n",
    "Given an input tensor of shape [batch, in_height, in_width, in_channels] and a filter / kernel tensor of shape [filter_height, filter_width, in_channels, out_channels], this op performs the following:\n",
    "1.Flattens the filter to a 2-D matrix with shape [filter_height * filter_width * in_channels, output_channels].\n",
    "2.Extracts image patches from the input tensor to form a virtual tensor of shape [batch, out_height, out_width,\n",
    "filter_height * filter_width * in_channels].\n",
    "3.For each patch, right-multiplies the filter matrix and the image patch vector.\n"
   ]
  },
  {
   "cell_type": "code",
   "execution_count": 45,
   "metadata": {},
   "outputs": [
    {
     "name": "stderr",
     "output_type": "stream",
     "text": [
      "Using TensorFlow backend.\n"
     ]
    }
   ],
   "source": [
    "import tensorflow as tf\n",
    "import keras\n",
    "from tensorflow.keras.datasets import cifar10\n",
    "from tensorflow.keras.preprocessing.image import ImageDataGenerator\n",
    "from tensorflow.keras.models import Sequential\n",
    "from tensorflow.keras.layers import Dense, Dropout, Activation, Flatten\n",
    "from tensorflow.keras.layers import Conv2D, MaxPooling2D"
   ]
  },
  {
   "cell_type": "code",
   "execution_count": 46,
   "metadata": {},
   "outputs": [],
   "source": [
    "num_classes = 10\n",
    "y_train = keras.utils.to_categorical(y, num_classes)"
   ]
  },
  {
   "cell_type": "code",
   "execution_count": 47,
   "metadata": {},
   "outputs": [
    {
     "data": {
      "text/plain": [
       "array([[0., 0., 0., 0., 0., 0., 1., 0., 0., 0.]], dtype=float32)"
      ]
     },
     "execution_count": 47,
     "metadata": {},
     "output_type": "execute_result"
    }
   ],
   "source": [
    "y_train[:1]"
   ]
  },
  {
   "cell_type": "code",
   "execution_count": 48,
   "metadata": {},
   "outputs": [
    {
     "name": "stdout",
     "output_type": "stream",
     "text": [
      "WARNING:tensorflow:From C:\\Users\\HP\\Anaconda3\\lib\\site-packages\\tensorflow\\python\\ops\\resource_variable_ops.py:435: colocate_with (from tensorflow.python.framework.ops) is deprecated and will be removed in a future version.\n",
      "Instructions for updating:\n",
      "Colocations handled automatically by placer.\n",
      "WARNING:tensorflow:From C:\\Users\\HP\\Anaconda3\\lib\\site-packages\\tensorflow\\python\\keras\\layers\\core.py:143: calling dropout (from tensorflow.python.ops.nn_ops) with keep_prob is deprecated and will be removed in a future version.\n",
      "Instructions for updating:\n",
      "Please use `rate` instead of `keep_prob`. Rate should be set to `rate = 1 - keep_prob`.\n"
     ]
    }
   ],
   "source": [
    "model = Sequential()\n",
    "model.add(Conv2D(32, (3, 3), padding='same',\n",
    "                 input_shape=X_train.shape[1:]))\n",
    "model.add(Activation('relu'))\n",
    "model.add(Conv2D(32, (3, 3)))\n",
    "model.add(Activation('relu'))\n",
    "model.add(MaxPooling2D(pool_size=(2, 2)))\n",
    "model.add(Dropout(0.25))\n",
    "\n",
    "model.add(Conv2D(64, (3, 3), padding='same'))\n",
    "model.add(Activation('relu'))\n",
    "model.add(Conv2D(64, (3, 3)))\n",
    "model.add(Activation('relu'))\n",
    "model.add(MaxPooling2D(pool_size=(2, 2)))\n",
    "model.add(Dropout(0.25))\n",
    "\n",
    "model.add(Flatten())\n",
    "\n",
    "model.add(Dense(256))\n",
    "model.add(Activation('relu'))\n",
    "model.add(Dropout(0.5))\n",
    "\n",
    "model.add(Dense(num_classes))\n",
    "model.add(Activation('softmax'))"
   ]
  },
  {
   "cell_type": "code",
   "execution_count": 49,
   "metadata": {},
   "outputs": [],
   "source": [
    "# Let's train the model using RMSprop\n",
    "model.compile(loss='categorical_crossentropy',\n",
    "              optimizer='adam',\n",
    "              metrics=['accuracy'])"
   ]
  },
  {
   "cell_type": "code",
   "execution_count": 50,
   "metadata": {},
   "outputs": [
    {
     "name": "stdout",
     "output_type": "stream",
     "text": [
      "_________________________________________________________________\n",
      "Layer (type)                 Output Shape              Param #   \n",
      "=================================================================\n",
      "conv2d (Conv2D)              (None, 32, 32, 32)        896       \n",
      "_________________________________________________________________\n",
      "activation (Activation)      (None, 32, 32, 32)        0         \n",
      "_________________________________________________________________\n",
      "conv2d_1 (Conv2D)            (None, 30, 30, 32)        9248      \n",
      "_________________________________________________________________\n",
      "activation_1 (Activation)    (None, 30, 30, 32)        0         \n",
      "_________________________________________________________________\n",
      "max_pooling2d (MaxPooling2D) (None, 15, 15, 32)        0         \n",
      "_________________________________________________________________\n",
      "dropout (Dropout)            (None, 15, 15, 32)        0         \n",
      "_________________________________________________________________\n",
      "conv2d_2 (Conv2D)            (None, 15, 15, 64)        18496     \n",
      "_________________________________________________________________\n",
      "activation_2 (Activation)    (None, 15, 15, 64)        0         \n",
      "_________________________________________________________________\n",
      "conv2d_3 (Conv2D)            (None, 13, 13, 64)        36928     \n",
      "_________________________________________________________________\n",
      "activation_3 (Activation)    (None, 13, 13, 64)        0         \n",
      "_________________________________________________________________\n",
      "max_pooling2d_1 (MaxPooling2 (None, 6, 6, 64)          0         \n",
      "_________________________________________________________________\n",
      "dropout_1 (Dropout)          (None, 6, 6, 64)          0         \n",
      "_________________________________________________________________\n",
      "flatten (Flatten)            (None, 2304)              0         \n",
      "_________________________________________________________________\n",
      "dense (Dense)                (None, 256)               590080    \n",
      "_________________________________________________________________\n",
      "activation_4 (Activation)    (None, 256)               0         \n",
      "_________________________________________________________________\n",
      "dropout_2 (Dropout)          (None, 256)               0         \n",
      "_________________________________________________________________\n",
      "dense_1 (Dense)              (None, 10)                2570      \n",
      "_________________________________________________________________\n",
      "activation_5 (Activation)    (None, 10)                0         \n",
      "=================================================================\n",
      "Total params: 658,218\n",
      "Trainable params: 658,218\n",
      "Non-trainable params: 0\n",
      "_________________________________________________________________\n"
     ]
    }
   ],
   "source": [
    "model.summary()"
   ]
  },
  {
   "cell_type": "code",
   "execution_count": 51,
   "metadata": {},
   "outputs": [
    {
     "name": "stdout",
     "output_type": "stream",
     "text": [
      "Train on 35000 samples, validate on 15000 samples\n",
      "WARNING:tensorflow:From C:\\Users\\HP\\Anaconda3\\lib\\site-packages\\tensorflow\\python\\ops\\math_ops.py:3066: to_int32 (from tensorflow.python.ops.math_ops) is deprecated and will be removed in a future version.\n",
      "Instructions for updating:\n",
      "Use tf.cast instead.\n",
      "Epoch 1/3\n"
     ]
    },
    {
     "name": "stdout",
     "output_type": "stream",
     "text": [
      "26624/35000 [=====================>........] - ETA: 4:41 - loss: 2.3151 - acc: 0.085 - ETA: 3:17 - loss: 2.3114 - acc: 0.085 - ETA: 2:47 - loss: 2.3124 - acc: 0.093 - ETA: 2:32 - loss: 2.3101 - acc: 0.099 - ETA: 2:23 - loss: 2.3094 - acc: 0.098 - ETA: 2:17 - loss: 2.3093 - acc: 0.093 - ETA: 2:12 - loss: 2.3071 - acc: 0.098 - ETA: 2:08 - loss: 2.3052 - acc: 0.100 - ETA: 2:06 - loss: 2.3049 - acc: 0.103 - ETA: 2:03 - loss: 2.3029 - acc: 0.110 - ETA: 2:01 - loss: 2.3019 - acc: 0.112 - ETA: 1:59 - loss: 2.2998 - acc: 0.112 - ETA: 1:57 - loss: 2.2973 - acc: 0.117 - ETA: 1:56 - loss: 2.2933 - acc: 0.122 - ETA: 1:55 - loss: 2.2866 - acc: 0.128 - ETA: 1:54 - loss: 2.2846 - acc: 0.126 - ETA: 1:52 - loss: 2.2819 - acc: 0.125 - ETA: 1:51 - loss: 2.2744 - acc: 0.129 - ETA: 1:50 - loss: 2.2687 - acc: 0.133 - ETA: 1:49 - loss: 2.2653 - acc: 0.134 - ETA: 1:49 - loss: 2.2616 - acc: 0.136 - ETA: 1:48 - loss: 2.2594 - acc: 0.136 - ETA: 1:47 - loss: 2.2542 - acc: 0.138 - ETA: 1:46 - loss: 2.2516 - acc: 0.140 - ETA: 1:46 - loss: 2.2507 - acc: 0.142 - ETA: 1:45 - loss: 2.2434 - acc: 0.144 - ETA: 1:44 - loss: 2.2381 - acc: 0.146 - ETA: 1:44 - loss: 2.2320 - acc: 0.150 - ETA: 1:44 - loss: 2.2315 - acc: 0.151 - ETA: 1:43 - loss: 2.2250 - acc: 0.156 - ETA: 1:43 - loss: 2.2223 - acc: 0.158 - ETA: 1:43 - loss: 2.2192 - acc: 0.160 - ETA: 1:42 - loss: 2.2135 - acc: 0.161 - ETA: 1:42 - loss: 2.2092 - acc: 0.163 - ETA: 1:42 - loss: 2.2090 - acc: 0.164 - ETA: 1:41 - loss: 2.2039 - acc: 0.166 - ETA: 1:41 - loss: 2.1998 - acc: 0.169 - ETA: 1:41 - loss: 2.1988 - acc: 0.169 - ETA: 1:41 - loss: 2.1968 - acc: 0.170 - ETA: 1:41 - loss: 2.1957 - acc: 0.170 - ETA: 1:40 - loss: 2.1906 - acc: 0.172 - ETA: 1:40 - loss: 2.1862 - acc: 0.175 - ETA: 1:40 - loss: 2.1819 - acc: 0.176 - ETA: 1:40 - loss: 2.1786 - acc: 0.179 - ETA: 1:39 - loss: 2.1749 - acc: 0.180 - ETA: 1:39 - loss: 2.1728 - acc: 0.179 - ETA: 1:39 - loss: 2.1692 - acc: 0.181 - ETA: 1:38 - loss: 2.1640 - acc: 0.183 - ETA: 1:38 - loss: 2.1603 - acc: 0.184 - ETA: 1:37 - loss: 2.1580 - acc: 0.185 - ETA: 1:37 - loss: 2.1555 - acc: 0.186 - ETA: 1:37 - loss: 2.1519 - acc: 0.188 - ETA: 1:36 - loss: 2.1478 - acc: 0.190 - ETA: 1:36 - loss: 2.1469 - acc: 0.189 - ETA: 1:35 - loss: 2.1437 - acc: 0.191 - ETA: 1:35 - loss: 2.1399 - acc: 0.192 - ETA: 1:34 - loss: 2.1349 - acc: 0.195 - ETA: 1:34 - loss: 2.1318 - acc: 0.196 - ETA: 1:34 - loss: 2.1281 - acc: 0.198 - ETA: 1:33 - loss: 2.1249 - acc: 0.200 - ETA: 1:33 - loss: 2.1211 - acc: 0.202 - ETA: 1:32 - loss: 2.1171 - acc: 0.204 - ETA: 1:32 - loss: 2.1140 - acc: 0.205 - ETA: 1:31 - loss: 2.1072 - acc: 0.207 - ETA: 1:31 - loss: 2.1057 - acc: 0.208 - ETA: 1:31 - loss: 2.1022 - acc: 0.210 - ETA: 1:30 - loss: 2.0997 - acc: 0.211 - ETA: 1:30 - loss: 2.0957 - acc: 0.212 - ETA: 1:29 - loss: 2.0922 - acc: 0.214 - ETA: 1:29 - loss: 2.0903 - acc: 0.215 - ETA: 1:29 - loss: 2.0885 - acc: 0.215 - ETA: 1:28 - loss: 2.0863 - acc: 0.217 - ETA: 1:28 - loss: 2.0815 - acc: 0.218 - ETA: 1:28 - loss: 2.0792 - acc: 0.219 - ETA: 1:27 - loss: 2.0770 - acc: 0.221 - ETA: 1:27 - loss: 2.0750 - acc: 0.221 - ETA: 1:27 - loss: 2.0726 - acc: 0.222 - ETA: 1:26 - loss: 2.0701 - acc: 0.222 - ETA: 1:26 - loss: 2.0671 - acc: 0.224 - ETA: 1:25 - loss: 2.0651 - acc: 0.225 - ETA: 1:25 - loss: 2.0615 - acc: 0.226 - ETA: 1:25 - loss: 2.0585 - acc: 0.228 - ETA: 1:24 - loss: 2.0555 - acc: 0.229 - ETA: 1:24 - loss: 2.0534 - acc: 0.229 - ETA: 1:23 - loss: 2.0497 - acc: 0.230 - ETA: 1:23 - loss: 2.0470 - acc: 0.232 - ETA: 1:22 - loss: 2.0440 - acc: 0.233 - ETA: 1:22 - loss: 2.0409 - acc: 0.234 - ETA: 1:21 - loss: 2.0373 - acc: 0.236 - ETA: 1:21 - loss: 2.0367 - acc: 0.236 - ETA: 1:20 - loss: 2.0333 - acc: 0.237 - ETA: 1:20 - loss: 2.0320 - acc: 0.238 - ETA: 1:20 - loss: 2.0291 - acc: 0.239 - ETA: 1:19 - loss: 2.0260 - acc: 0.240 - ETA: 1:19 - loss: 2.0230 - acc: 0.242 - ETA: 1:18 - loss: 2.0212 - acc: 0.243 - ETA: 1:18 - loss: 2.0187 - acc: 0.244 - ETA: 1:17 - loss: 2.0171 - acc: 0.245 - ETA: 1:17 - loss: 2.0153 - acc: 0.245 - ETA: 1:17 - loss: 2.0132 - acc: 0.246 - ETA: 1:16 - loss: 2.0102 - acc: 0.247 - ETA: 1:16 - loss: 2.0079 - acc: 0.248 - ETA: 1:15 - loss: 2.0058 - acc: 0.250 - ETA: 1:15 - loss: 2.0030 - acc: 0.251 - ETA: 1:14 - loss: 2.0009 - acc: 0.251 - ETA: 1:14 - loss: 1.9985 - acc: 0.252 - ETA: 1:13 - loss: 1.9967 - acc: 0.253 - ETA: 1:13 - loss: 1.9951 - acc: 0.254 - ETA: 1:13 - loss: 1.9921 - acc: 0.255 - ETA: 1:12 - loss: 1.9906 - acc: 0.256 - ETA: 1:12 - loss: 1.9889 - acc: 0.257 - ETA: 1:11 - loss: 1.9877 - acc: 0.257 - ETA: 1:11 - loss: 1.9854 - acc: 0.258 - ETA: 1:11 - loss: 1.9834 - acc: 0.259 - ETA: 1:10 - loss: 1.9799 - acc: 0.260 - ETA: 1:10 - loss: 1.9794 - acc: 0.261 - ETA: 1:09 - loss: 1.9778 - acc: 0.262 - ETA: 1:09 - loss: 1.9753 - acc: 0.262 - ETA: 1:08 - loss: 1.9729 - acc: 0.263 - ETA: 1:08 - loss: 1.9701 - acc: 0.264 - ETA: 1:08 - loss: 1.9691 - acc: 0.265 - ETA: 1:07 - loss: 1.9667 - acc: 0.266 - ETA: 1:07 - loss: 1.9641 - acc: 0.267 - ETA: 1:06 - loss: 1.9614 - acc: 0.268 - ETA: 1:06 - loss: 1.9597 - acc: 0.269 - ETA: 1:05 - loss: 1.9579 - acc: 0.269 - ETA: 1:05 - loss: 1.9556 - acc: 0.271 - ETA: 1:04 - loss: 1.9535 - acc: 0.271 - ETA: 1:04 - loss: 1.9504 - acc: 0.273 - ETA: 1:04 - loss: 1.9479 - acc: 0.274 - ETA: 1:03 - loss: 1.9453 - acc: 0.275 - ETA: 1:03 - loss: 1.9432 - acc: 0.276 - ETA: 1:02 - loss: 1.9401 - acc: 0.277 - ETA: 1:02 - loss: 1.9390 - acc: 0.278 - ETA: 1:01 - loss: 1.9377 - acc: 0.278 - ETA: 1:01 - loss: 1.9367 - acc: 0.279 - ETA: 1:00 - loss: 1.9356 - acc: 0.280 - ETA: 1:00 - loss: 1.9343 - acc: 0.280 - ETA: 1:00 - loss: 1.9327 - acc: 0.281 - ETA: 59s - loss: 1.9310 - acc: 0.282 - ETA: 59s - loss: 1.9298 - acc: 0.28 - ETA: 58s - loss: 1.9276 - acc: 0.28 - ETA: 58s - loss: 1.9265 - acc: 0.28 - ETA: 57s - loss: 1.9238 - acc: 0.28 - ETA: 57s - loss: 1.9208 - acc: 0.28 - ETA: 57s - loss: 1.9192 - acc: 0.28 - ETA: 56s - loss: 1.9178 - acc: 0.28 - ETA: 56s - loss: 1.9163 - acc: 0.28 - ETA: 55s - loss: 1.9148 - acc: 0.28 - ETA: 55s - loss: 1.9138 - acc: 0.29 - ETA: 54s - loss: 1.9119 - acc: 0.29 - ETA: 54s - loss: 1.9101 - acc: 0.29 - ETA: 54s - loss: 1.9092 - acc: 0.29 - ETA: 53s - loss: 1.9074 - acc: 0.29 - ETA: 53s - loss: 1.9058 - acc: 0.29 - ETA: 52s - loss: 1.9038 - acc: 0.29 - ETA: 52s - loss: 1.9017 - acc: 0.29 - ETA: 51s - loss: 1.9002 - acc: 0.29 - ETA: 51s - loss: 1.8996 - acc: 0.29 - ETA: 50s - loss: 1.8978 - acc: 0.29 - ETA: 50s - loss: 1.8967 - acc: 0.29 - ETA: 49s - loss: 1.8948 - acc: 0.29 - ETA: 49s - loss: 1.8932 - acc: 0.29 - ETA: 49s - loss: 1.8917 - acc: 0.29 - ETA: 48s - loss: 1.8900 - acc: 0.30 - ETA: 48s - loss: 1.8882 - acc: 0.30 - ETA: 47s - loss: 1.8858 - acc: 0.30 - ETA: 47s - loss: 1.8843 - acc: 0.30 - ETA: 46s - loss: 1.8836 - acc: 0.30 - ETA: 46s - loss: 1.8821 - acc: 0.30 - ETA: 45s - loss: 1.8803 - acc: 0.30 - ETA: 45s - loss: 1.8790 - acc: 0.30 - ETA: 45s - loss: 1.8774 - acc: 0.30 - ETA: 44s - loss: 1.8749 - acc: 0.30 - ETA: 44s - loss: 1.8735 - acc: 0.30 - ETA: 43s - loss: 1.8718 - acc: 0.30 - ETA: 43s - loss: 1.8698 - acc: 0.30 - ETA: 42s - loss: 1.8680 - acc: 0.30 - ETA: 42s - loss: 1.8671 - acc: 0.30 - ETA: 41s - loss: 1.8649 - acc: 0.31 - ETA: 41s - loss: 1.8638 - acc: 0.31 - ETA: 41s - loss: 1.8613 - acc: 0.31 - ETA: 40s - loss: 1.8591 - acc: 0.31 - ETA: 40s - loss: 1.8588 - acc: 0.31 - ETA: 39s - loss: 1.8569 - acc: 0.31 - ETA: 39s - loss: 1.8557 - acc: 0.31 - ETA: 38s - loss: 1.8532 - acc: 0.31 - ETA: 38s - loss: 1.8512 - acc: 0.31 - ETA: 37s - loss: 1.8494 - acc: 0.31 - ETA: 37s - loss: 1.8478 - acc: 0.31 - ETA: 37s - loss: 1.8467 - acc: 0.31 - ETA: 36s - loss: 1.8452 - acc: 0.31 - ETA: 36s - loss: 1.8438 - acc: 0.31 - ETA: 35s - loss: 1.8422 - acc: 0.31 - ETA: 35s - loss: 1.8414 - acc: 0.31 - ETA: 34s - loss: 1.8404 - acc: 0.31 - ETA: 34s - loss: 1.8393 - acc: 0.32 - ETA: 33s - loss: 1.8385 - acc: 0.32 - ETA: 33s - loss: 1.8363 - acc: 0.32 - ETA: 32s - loss: 1.8349 - acc: 0.32 - ETA: 32s - loss: 1.8328 - acc: 0.32 - ETA: 32s - loss: 1.8311 - acc: 0.32 - ETA: 31s - loss: 1.8299 - acc: 0.32 - ETA: 31s - loss: 1.8282 - acc: 0.32 - ETA: 30s - loss: 1.8273 - acc: 0.32 - ETA: 30s - loss: 1.8254 - acc: 0.32 - ETA: 29s - loss: 1.8248 - acc: 0.32 - ETA: 29s - loss: 1.8237 - acc: 0.3276"
     ]
    },
    {
     "name": "stdout",
     "output_type": "stream",
     "text": [
      "35000/35000 [==============================] - ETA: 28s - loss: 1.8226 - acc: 0.32 - ETA: 28s - loss: 1.8213 - acc: 0.32 - ETA: 28s - loss: 1.8200 - acc: 0.32 - ETA: 27s - loss: 1.8183 - acc: 0.32 - ETA: 27s - loss: 1.8173 - acc: 0.33 - ETA: 26s - loss: 1.8156 - acc: 0.33 - ETA: 26s - loss: 1.8136 - acc: 0.33 - ETA: 25s - loss: 1.8128 - acc: 0.33 - ETA: 25s - loss: 1.8116 - acc: 0.33 - ETA: 24s - loss: 1.8106 - acc: 0.33 - ETA: 24s - loss: 1.8099 - acc: 0.33 - ETA: 24s - loss: 1.8084 - acc: 0.33 - ETA: 23s - loss: 1.8074 - acc: 0.33 - ETA: 23s - loss: 1.8061 - acc: 0.33 - ETA: 22s - loss: 1.8055 - acc: 0.33 - ETA: 22s - loss: 1.8038 - acc: 0.33 - ETA: 21s - loss: 1.8026 - acc: 0.33 - ETA: 21s - loss: 1.8016 - acc: 0.33 - ETA: 20s - loss: 1.8004 - acc: 0.33 - ETA: 20s - loss: 1.7989 - acc: 0.33 - ETA: 19s - loss: 1.7979 - acc: 0.33 - ETA: 19s - loss: 1.7963 - acc: 0.33 - ETA: 19s - loss: 1.7952 - acc: 0.33 - ETA: 18s - loss: 1.7943 - acc: 0.33 - ETA: 18s - loss: 1.7932 - acc: 0.33 - ETA: 17s - loss: 1.7919 - acc: 0.33 - ETA: 17s - loss: 1.7913 - acc: 0.34 - ETA: 16s - loss: 1.7903 - acc: 0.34 - ETA: 16s - loss: 1.7898 - acc: 0.34 - ETA: 15s - loss: 1.7895 - acc: 0.34 - ETA: 15s - loss: 1.7880 - acc: 0.34 - ETA: 15s - loss: 1.7872 - acc: 0.34 - ETA: 14s - loss: 1.7864 - acc: 0.34 - ETA: 14s - loss: 1.7851 - acc: 0.34 - ETA: 13s - loss: 1.7844 - acc: 0.34 - ETA: 13s - loss: 1.7830 - acc: 0.34 - ETA: 12s - loss: 1.7815 - acc: 0.34 - ETA: 12s - loss: 1.7805 - acc: 0.34 - ETA: 11s - loss: 1.7796 - acc: 0.34 - ETA: 11s - loss: 1.7783 - acc: 0.34 - ETA: 11s - loss: 1.7774 - acc: 0.34 - ETA: 10s - loss: 1.7759 - acc: 0.34 - ETA: 10s - loss: 1.7752 - acc: 0.34 - ETA: 9s - loss: 1.7747 - acc: 0.3464 - ETA: 9s - loss: 1.7736 - acc: 0.346 - ETA: 8s - loss: 1.7731 - acc: 0.346 - ETA: 8s - loss: 1.7721 - acc: 0.347 - ETA: 7s - loss: 1.7712 - acc: 0.347 - ETA: 7s - loss: 1.7705 - acc: 0.347 - ETA: 6s - loss: 1.7696 - acc: 0.348 - ETA: 6s - loss: 1.7688 - acc: 0.348 - ETA: 6s - loss: 1.7676 - acc: 0.349 - ETA: 5s - loss: 1.7667 - acc: 0.349 - ETA: 5s - loss: 1.7661 - acc: 0.349 - ETA: 4s - loss: 1.7653 - acc: 0.349 - ETA: 4s - loss: 1.7641 - acc: 0.350 - ETA: 3s - loss: 1.7641 - acc: 0.350 - ETA: 3s - loss: 1.7628 - acc: 0.351 - ETA: 2s - loss: 1.7610 - acc: 0.351 - ETA: 2s - loss: 1.7610 - acc: 0.352 - ETA: 2s - loss: 1.7599 - acc: 0.352 - ETA: 1s - loss: 1.7588 - acc: 0.352 - ETA: 1s - loss: 1.7580 - acc: 0.353 - ETA: 0s - loss: 1.7577 - acc: 0.353 - ETA: 0s - loss: 1.7566 - acc: 0.353 - 140s 4ms/sample - loss: 1.7563 - acc: 0.3539 - val_loss: 1.4614 - val_acc: 0.4731\n",
      "Epoch 2/3\n"
     ]
    },
    {
     "name": "stdout",
     "output_type": "stream",
     "text": [
      "26496/35000 [=====================>........] - ETA: 2:06 - loss: 1.4468 - acc: 0.484 - ETA: 2:03 - loss: 1.4370 - acc: 0.507 - ETA: 2:03 - loss: 1.4754 - acc: 0.492 - ETA: 2:02 - loss: 1.4503 - acc: 0.500 - ETA: 2:01 - loss: 1.4440 - acc: 0.500 - ETA: 2:01 - loss: 1.4637 - acc: 0.487 - ETA: 2:01 - loss: 1.4828 - acc: 0.478 - ETA: 2:00 - loss: 1.4821 - acc: 0.479 - ETA: 2:00 - loss: 1.4737 - acc: 0.479 - ETA: 2:00 - loss: 1.4681 - acc: 0.481 - ETA: 2:00 - loss: 1.4714 - acc: 0.480 - ETA: 2:00 - loss: 1.4648 - acc: 0.482 - ETA: 2:00 - loss: 1.4605 - acc: 0.483 - ETA: 2:00 - loss: 1.4566 - acc: 0.482 - ETA: 2:00 - loss: 1.4653 - acc: 0.481 - ETA: 1:59 - loss: 1.4625 - acc: 0.479 - ETA: 1:59 - loss: 1.4586 - acc: 0.480 - ETA: 1:58 - loss: 1.4704 - acc: 0.473 - ETA: 1:57 - loss: 1.4676 - acc: 0.471 - ETA: 1:57 - loss: 1.4627 - acc: 0.473 - ETA: 1:56 - loss: 1.4524 - acc: 0.477 - ETA: 1:56 - loss: 1.4475 - acc: 0.478 - ETA: 1:56 - loss: 1.4418 - acc: 0.477 - ETA: 1:56 - loss: 1.4451 - acc: 0.478 - ETA: 1:56 - loss: 1.4466 - acc: 0.480 - ETA: 1:55 - loss: 1.4412 - acc: 0.481 - ETA: 1:55 - loss: 1.4415 - acc: 0.481 - ETA: 1:54 - loss: 1.4342 - acc: 0.482 - ETA: 1:54 - loss: 1.4335 - acc: 0.482 - ETA: 1:53 - loss: 1.4378 - acc: 0.479 - ETA: 1:52 - loss: 1.4356 - acc: 0.478 - ETA: 1:52 - loss: 1.4381 - acc: 0.478 - ETA: 1:51 - loss: 1.4393 - acc: 0.477 - ETA: 1:51 - loss: 1.4466 - acc: 0.475 - ETA: 1:50 - loss: 1.4470 - acc: 0.474 - ETA: 1:50 - loss: 1.4484 - acc: 0.475 - ETA: 1:49 - loss: 1.4494 - acc: 0.475 - ETA: 1:49 - loss: 1.4513 - acc: 0.474 - ETA: 1:48 - loss: 1.4554 - acc: 0.473 - ETA: 1:47 - loss: 1.4548 - acc: 0.474 - ETA: 1:47 - loss: 1.4545 - acc: 0.475 - ETA: 1:46 - loss: 1.4562 - acc: 0.473 - ETA: 1:46 - loss: 1.4579 - acc: 0.472 - ETA: 1:45 - loss: 1.4540 - acc: 0.474 - ETA: 1:45 - loss: 1.4549 - acc: 0.475 - ETA: 1:45 - loss: 1.4539 - acc: 0.475 - ETA: 1:45 - loss: 1.4524 - acc: 0.476 - ETA: 1:44 - loss: 1.4533 - acc: 0.477 - ETA: 1:44 - loss: 1.4537 - acc: 0.476 - ETA: 1:44 - loss: 1.4543 - acc: 0.475 - ETA: 1:43 - loss: 1.4556 - acc: 0.475 - ETA: 1:43 - loss: 1.4556 - acc: 0.475 - ETA: 1:43 - loss: 1.4546 - acc: 0.474 - ETA: 1:42 - loss: 1.4544 - acc: 0.475 - ETA: 1:42 - loss: 1.4517 - acc: 0.476 - ETA: 1:41 - loss: 1.4515 - acc: 0.476 - ETA: 1:41 - loss: 1.4537 - acc: 0.475 - ETA: 1:40 - loss: 1.4513 - acc: 0.475 - ETA: 1:40 - loss: 1.4536 - acc: 0.475 - ETA: 1:39 - loss: 1.4539 - acc: 0.475 - ETA: 1:39 - loss: 1.4513 - acc: 0.476 - ETA: 1:38 - loss: 1.4503 - acc: 0.476 - ETA: 1:38 - loss: 1.4487 - acc: 0.476 - ETA: 1:38 - loss: 1.4470 - acc: 0.477 - ETA: 1:37 - loss: 1.4478 - acc: 0.477 - ETA: 1:37 - loss: 1.4466 - acc: 0.476 - ETA: 1:36 - loss: 1.4462 - acc: 0.476 - ETA: 1:36 - loss: 1.4452 - acc: 0.476 - ETA: 1:36 - loss: 1.4443 - acc: 0.477 - ETA: 1:35 - loss: 1.4427 - acc: 0.478 - ETA: 1:35 - loss: 1.4427 - acc: 0.477 - ETA: 1:35 - loss: 1.4417 - acc: 0.478 - ETA: 1:34 - loss: 1.4405 - acc: 0.479 - ETA: 1:34 - loss: 1.4380 - acc: 0.480 - ETA: 1:34 - loss: 1.4357 - acc: 0.481 - ETA: 1:34 - loss: 1.4348 - acc: 0.481 - ETA: 1:33 - loss: 1.4336 - acc: 0.482 - ETA: 1:33 - loss: 1.4352 - acc: 0.481 - ETA: 1:33 - loss: 1.4345 - acc: 0.482 - ETA: 1:32 - loss: 1.4345 - acc: 0.482 - ETA: 1:32 - loss: 1.4340 - acc: 0.481 - ETA: 1:31 - loss: 1.4348 - acc: 0.481 - ETA: 1:31 - loss: 1.4347 - acc: 0.481 - ETA: 1:30 - loss: 1.4360 - acc: 0.481 - ETA: 1:30 - loss: 1.4371 - acc: 0.481 - ETA: 1:29 - loss: 1.4367 - acc: 0.481 - ETA: 1:29 - loss: 1.4371 - acc: 0.481 - ETA: 1:29 - loss: 1.4365 - acc: 0.482 - ETA: 1:28 - loss: 1.4365 - acc: 0.482 - ETA: 1:28 - loss: 1.4370 - acc: 0.482 - ETA: 1:27 - loss: 1.4362 - acc: 0.482 - ETA: 1:27 - loss: 1.4363 - acc: 0.482 - ETA: 1:26 - loss: 1.4369 - acc: 0.482 - ETA: 1:26 - loss: 1.4371 - acc: 0.482 - ETA: 1:25 - loss: 1.4363 - acc: 0.482 - ETA: 1:25 - loss: 1.4373 - acc: 0.482 - ETA: 1:24 - loss: 1.4365 - acc: 0.483 - ETA: 1:24 - loss: 1.4368 - acc: 0.483 - ETA: 1:23 - loss: 1.4372 - acc: 0.483 - ETA: 1:23 - loss: 1.4369 - acc: 0.484 - ETA: 1:22 - loss: 1.4360 - acc: 0.485 - ETA: 1:22 - loss: 1.4363 - acc: 0.485 - ETA: 1:21 - loss: 1.4376 - acc: 0.484 - ETA: 1:21 - loss: 1.4363 - acc: 0.485 - ETA: 1:20 - loss: 1.4364 - acc: 0.485 - ETA: 1:20 - loss: 1.4355 - acc: 0.485 - ETA: 1:19 - loss: 1.4353 - acc: 0.485 - ETA: 1:19 - loss: 1.4356 - acc: 0.485 - ETA: 1:18 - loss: 1.4352 - acc: 0.485 - ETA: 1:18 - loss: 1.4334 - acc: 0.486 - ETA: 1:17 - loss: 1.4332 - acc: 0.486 - ETA: 1:17 - loss: 1.4340 - acc: 0.485 - ETA: 1:16 - loss: 1.4342 - acc: 0.485 - ETA: 1:16 - loss: 1.4333 - acc: 0.486 - ETA: 1:15 - loss: 1.4329 - acc: 0.486 - ETA: 1:15 - loss: 1.4322 - acc: 0.486 - ETA: 1:14 - loss: 1.4322 - acc: 0.486 - ETA: 1:14 - loss: 1.4324 - acc: 0.486 - ETA: 1:13 - loss: 1.4320 - acc: 0.486 - ETA: 1:13 - loss: 1.4318 - acc: 0.486 - ETA: 1:12 - loss: 1.4302 - acc: 0.486 - ETA: 1:12 - loss: 1.4299 - acc: 0.486 - ETA: 1:11 - loss: 1.4288 - acc: 0.487 - ETA: 1:11 - loss: 1.4285 - acc: 0.487 - ETA: 1:10 - loss: 1.4279 - acc: 0.487 - ETA: 1:10 - loss: 1.4277 - acc: 0.487 - ETA: 1:09 - loss: 1.4269 - acc: 0.487 - ETA: 1:09 - loss: 1.4255 - acc: 0.488 - ETA: 1:08 - loss: 1.4246 - acc: 0.488 - ETA: 1:08 - loss: 1.4240 - acc: 0.488 - ETA: 1:07 - loss: 1.4225 - acc: 0.489 - ETA: 1:07 - loss: 1.4218 - acc: 0.489 - ETA: 1:06 - loss: 1.4210 - acc: 0.490 - ETA: 1:06 - loss: 1.4194 - acc: 0.491 - ETA: 1:05 - loss: 1.4187 - acc: 0.490 - ETA: 1:05 - loss: 1.4195 - acc: 0.490 - ETA: 1:04 - loss: 1.4190 - acc: 0.490 - ETA: 1:04 - loss: 1.4178 - acc: 0.490 - ETA: 1:03 - loss: 1.4175 - acc: 0.490 - ETA: 1:03 - loss: 1.4178 - acc: 0.490 - ETA: 1:02 - loss: 1.4173 - acc: 0.490 - ETA: 1:02 - loss: 1.4166 - acc: 0.490 - ETA: 1:01 - loss: 1.4167 - acc: 0.490 - ETA: 1:01 - loss: 1.4166 - acc: 0.490 - ETA: 1:00 - loss: 1.4163 - acc: 0.490 - ETA: 1:00 - loss: 1.4154 - acc: 0.491 - ETA: 59s - loss: 1.4156 - acc: 0.491 - ETA: 59s - loss: 1.4148 - acc: 0.49 - ETA: 58s - loss: 1.4138 - acc: 0.49 - ETA: 58s - loss: 1.4137 - acc: 0.49 - ETA: 57s - loss: 1.4135 - acc: 0.49 - ETA: 57s - loss: 1.4131 - acc: 0.49 - ETA: 56s - loss: 1.4130 - acc: 0.49 - ETA: 56s - loss: 1.4121 - acc: 0.49 - ETA: 55s - loss: 1.4123 - acc: 0.49 - ETA: 55s - loss: 1.4113 - acc: 0.49 - ETA: 54s - loss: 1.4108 - acc: 0.49 - ETA: 54s - loss: 1.4099 - acc: 0.49 - ETA: 54s - loss: 1.4094 - acc: 0.49 - ETA: 53s - loss: 1.4098 - acc: 0.49 - ETA: 53s - loss: 1.4099 - acc: 0.49 - ETA: 52s - loss: 1.4094 - acc: 0.49 - ETA: 52s - loss: 1.4084 - acc: 0.49 - ETA: 51s - loss: 1.4079 - acc: 0.49 - ETA: 51s - loss: 1.4071 - acc: 0.49 - ETA: 50s - loss: 1.4065 - acc: 0.49 - ETA: 50s - loss: 1.4051 - acc: 0.49 - ETA: 49s - loss: 1.4046 - acc: 0.49 - ETA: 49s - loss: 1.4039 - acc: 0.49 - ETA: 48s - loss: 1.4038 - acc: 0.49 - ETA: 48s - loss: 1.4041 - acc: 0.49 - ETA: 47s - loss: 1.4036 - acc: 0.49 - ETA: 47s - loss: 1.4027 - acc: 0.49 - ETA: 46s - loss: 1.4039 - acc: 0.49 - ETA: 46s - loss: 1.4036 - acc: 0.49 - ETA: 45s - loss: 1.4039 - acc: 0.49 - ETA: 45s - loss: 1.4037 - acc: 0.49 - ETA: 44s - loss: 1.4030 - acc: 0.49 - ETA: 44s - loss: 1.4032 - acc: 0.49 - ETA: 43s - loss: 1.4027 - acc: 0.49 - ETA: 43s - loss: 1.4023 - acc: 0.49 - ETA: 43s - loss: 1.4021 - acc: 0.49 - ETA: 42s - loss: 1.4025 - acc: 0.49 - ETA: 42s - loss: 1.4025 - acc: 0.49 - ETA: 41s - loss: 1.4024 - acc: 0.49 - ETA: 41s - loss: 1.4023 - acc: 0.49 - ETA: 40s - loss: 1.4022 - acc: 0.49 - ETA: 40s - loss: 1.4018 - acc: 0.49 - ETA: 39s - loss: 1.4009 - acc: 0.49 - ETA: 39s - loss: 1.4009 - acc: 0.49 - ETA: 38s - loss: 1.3997 - acc: 0.49 - ETA: 38s - loss: 1.3988 - acc: 0.49 - ETA: 37s - loss: 1.3981 - acc: 0.49 - ETA: 37s - loss: 1.3972 - acc: 0.49 - ETA: 36s - loss: 1.3976 - acc: 0.49 - ETA: 36s - loss: 1.3970 - acc: 0.49 - ETA: 35s - loss: 1.3964 - acc: 0.49 - ETA: 35s - loss: 1.3952 - acc: 0.49 - ETA: 34s - loss: 1.3952 - acc: 0.49 - ETA: 34s - loss: 1.3953 - acc: 0.49 - ETA: 33s - loss: 1.3941 - acc: 0.49 - ETA: 33s - loss: 1.3935 - acc: 0.49 - ETA: 33s - loss: 1.3936 - acc: 0.49 - ETA: 32s - loss: 1.3935 - acc: 0.49 - ETA: 32s - loss: 1.3928 - acc: 0.49 - ETA: 31s - loss: 1.3924 - acc: 0.49 - ETA: 31s - loss: 1.3916 - acc: 0.4995"
     ]
    },
    {
     "name": "stdout",
     "output_type": "stream",
     "text": [
      "35000/35000 [==============================] - ETA: 30s - loss: 1.3912 - acc: 0.50 - ETA: 30s - loss: 1.3901 - acc: 0.50 - ETA: 29s - loss: 1.3889 - acc: 0.50 - ETA: 29s - loss: 1.3883 - acc: 0.50 - ETA: 28s - loss: 1.3879 - acc: 0.50 - ETA: 28s - loss: 1.3863 - acc: 0.50 - ETA: 27s - loss: 1.3859 - acc: 0.50 - ETA: 27s - loss: 1.3852 - acc: 0.50 - ETA: 26s - loss: 1.3853 - acc: 0.50 - ETA: 26s - loss: 1.3852 - acc: 0.50 - ETA: 25s - loss: 1.3850 - acc: 0.50 - ETA: 25s - loss: 1.3835 - acc: 0.50 - ETA: 25s - loss: 1.3832 - acc: 0.50 - ETA: 24s - loss: 1.3829 - acc: 0.50 - ETA: 24s - loss: 1.3820 - acc: 0.50 - ETA: 23s - loss: 1.3812 - acc: 0.50 - ETA: 23s - loss: 1.3806 - acc: 0.50 - ETA: 22s - loss: 1.3803 - acc: 0.50 - ETA: 22s - loss: 1.3795 - acc: 0.50 - ETA: 21s - loss: 1.3787 - acc: 0.50 - ETA: 21s - loss: 1.3787 - acc: 0.50 - ETA: 20s - loss: 1.3779 - acc: 0.50 - ETA: 20s - loss: 1.3774 - acc: 0.50 - ETA: 19s - loss: 1.3775 - acc: 0.50 - ETA: 19s - loss: 1.3770 - acc: 0.50 - ETA: 18s - loss: 1.3781 - acc: 0.50 - ETA: 18s - loss: 1.3781 - acc: 0.50 - ETA: 17s - loss: 1.3785 - acc: 0.50 - ETA: 17s - loss: 1.3783 - acc: 0.50 - ETA: 17s - loss: 1.3781 - acc: 0.50 - ETA: 16s - loss: 1.3774 - acc: 0.50 - ETA: 16s - loss: 1.3770 - acc: 0.50 - ETA: 15s - loss: 1.3772 - acc: 0.50 - ETA: 15s - loss: 1.3768 - acc: 0.50 - ETA: 14s - loss: 1.3766 - acc: 0.50 - ETA: 14s - loss: 1.3762 - acc: 0.50 - ETA: 13s - loss: 1.3761 - acc: 0.50 - ETA: 13s - loss: 1.3755 - acc: 0.50 - ETA: 12s - loss: 1.3754 - acc: 0.50 - ETA: 12s - loss: 1.3748 - acc: 0.50 - ETA: 11s - loss: 1.3749 - acc: 0.50 - ETA: 11s - loss: 1.3751 - acc: 0.50 - ETA: 10s - loss: 1.3746 - acc: 0.50 - ETA: 10s - loss: 1.3738 - acc: 0.50 - ETA: 10s - loss: 1.3730 - acc: 0.50 - ETA: 9s - loss: 1.3728 - acc: 0.5066 - ETA: 9s - loss: 1.3729 - acc: 0.506 - ETA: 8s - loss: 1.3727 - acc: 0.506 - ETA: 8s - loss: 1.3725 - acc: 0.506 - ETA: 7s - loss: 1.3720 - acc: 0.507 - ETA: 7s - loss: 1.3726 - acc: 0.506 - ETA: 6s - loss: 1.3717 - acc: 0.507 - ETA: 6s - loss: 1.3711 - acc: 0.507 - ETA: 5s - loss: 1.3709 - acc: 0.507 - ETA: 5s - loss: 1.3711 - acc: 0.507 - ETA: 4s - loss: 1.3707 - acc: 0.507 - ETA: 4s - loss: 1.3703 - acc: 0.507 - ETA: 3s - loss: 1.3697 - acc: 0.507 - ETA: 3s - loss: 1.3695 - acc: 0.508 - ETA: 3s - loss: 1.3702 - acc: 0.507 - ETA: 2s - loss: 1.3699 - acc: 0.508 - ETA: 2s - loss: 1.3691 - acc: 0.508 - ETA: 1s - loss: 1.3683 - acc: 0.508 - ETA: 1s - loss: 1.3684 - acc: 0.508 - ETA: 0s - loss: 1.3681 - acc: 0.508 - ETA: 0s - loss: 1.3678 - acc: 0.508 - 146s 4ms/sample - loss: 1.3679 - acc: 0.5089 - val_loss: 1.1697 - val_acc: 0.5810\n",
      "Epoch 3/3\n"
     ]
    },
    {
     "name": "stdout",
     "output_type": "stream",
     "text": [
      "26496/35000 [=====================>........] - ETA: 2:03 - loss: 1.3350 - acc: 0.507 - ETA: 2:03 - loss: 1.2949 - acc: 0.550 - ETA: 2:04 - loss: 1.2729 - acc: 0.559 - ETA: 2:05 - loss: 1.2526 - acc: 0.550 - ETA: 2:05 - loss: 1.2365 - acc: 0.564 - ETA: 2:06 - loss: 1.2625 - acc: 0.552 - ETA: 2:06 - loss: 1.2557 - acc: 0.556 - ETA: 2:06 - loss: 1.2516 - acc: 0.559 - ETA: 2:05 - loss: 1.2452 - acc: 0.566 - ETA: 2:04 - loss: 1.2607 - acc: 0.558 - ETA: 2:04 - loss: 1.2680 - acc: 0.554 - ETA: 2:03 - loss: 1.2649 - acc: 0.555 - ETA: 2:02 - loss: 1.2776 - acc: 0.551 - ETA: 2:02 - loss: 1.2795 - acc: 0.551 - ETA: 2:01 - loss: 1.2857 - acc: 0.551 - ETA: 2:01 - loss: 1.2859 - acc: 0.550 - ETA: 2:00 - loss: 1.2813 - acc: 0.552 - ETA: 1:59 - loss: 1.2833 - acc: 0.550 - ETA: 1:59 - loss: 1.2759 - acc: 0.548 - ETA: 1:59 - loss: 1.2763 - acc: 0.551 - ETA: 1:59 - loss: 1.2708 - acc: 0.554 - ETA: 1:59 - loss: 1.2766 - acc: 0.553 - ETA: 1:58 - loss: 1.2728 - acc: 0.556 - ETA: 1:58 - loss: 1.2738 - acc: 0.557 - ETA: 1:57 - loss: 1.2696 - acc: 0.558 - ETA: 1:57 - loss: 1.2631 - acc: 0.559 - ETA: 1:56 - loss: 1.2645 - acc: 0.557 - ETA: 1:56 - loss: 1.2647 - acc: 0.558 - ETA: 1:56 - loss: 1.2656 - acc: 0.556 - ETA: 1:56 - loss: 1.2645 - acc: 0.558 - ETA: 1:56 - loss: 1.2674 - acc: 0.559 - ETA: 1:55 - loss: 1.2669 - acc: 0.558 - ETA: 1:55 - loss: 1.2666 - acc: 0.558 - ETA: 1:54 - loss: 1.2680 - acc: 0.556 - ETA: 1:54 - loss: 1.2722 - acc: 0.554 - ETA: 1:54 - loss: 1.2743 - acc: 0.553 - ETA: 1:53 - loss: 1.2747 - acc: 0.552 - ETA: 1:54 - loss: 1.2732 - acc: 0.552 - ETA: 1:53 - loss: 1.2720 - acc: 0.551 - ETA: 1:53 - loss: 1.2740 - acc: 0.551 - ETA: 1:53 - loss: 1.2700 - acc: 0.553 - ETA: 1:53 - loss: 1.2688 - acc: 0.553 - ETA: 1:52 - loss: 1.2653 - acc: 0.555 - ETA: 1:52 - loss: 1.2668 - acc: 0.554 - ETA: 1:51 - loss: 1.2686 - acc: 0.553 - ETA: 1:51 - loss: 1.2697 - acc: 0.553 - ETA: 1:50 - loss: 1.2673 - acc: 0.553 - ETA: 1:50 - loss: 1.2671 - acc: 0.553 - ETA: 1:49 - loss: 1.2661 - acc: 0.553 - ETA: 1:48 - loss: 1.2645 - acc: 0.553 - ETA: 1:48 - loss: 1.2646 - acc: 0.552 - ETA: 1:47 - loss: 1.2644 - acc: 0.553 - ETA: 1:47 - loss: 1.2651 - acc: 0.554 - ETA: 1:46 - loss: 1.2621 - acc: 0.555 - ETA: 1:46 - loss: 1.2604 - acc: 0.555 - ETA: 1:45 - loss: 1.2582 - acc: 0.556 - ETA: 1:45 - loss: 1.2589 - acc: 0.556 - ETA: 1:44 - loss: 1.2586 - acc: 0.557 - ETA: 1:44 - loss: 1.2567 - acc: 0.558 - ETA: 1:43 - loss: 1.2534 - acc: 0.560 - ETA: 1:43 - loss: 1.2513 - acc: 0.560 - ETA: 1:42 - loss: 1.2540 - acc: 0.558 - ETA: 1:42 - loss: 1.2535 - acc: 0.558 - ETA: 1:41 - loss: 1.2510 - acc: 0.559 - ETA: 1:41 - loss: 1.2495 - acc: 0.560 - ETA: 1:40 - loss: 1.2510 - acc: 0.559 - ETA: 1:40 - loss: 1.2496 - acc: 0.559 - ETA: 1:39 - loss: 1.2483 - acc: 0.561 - ETA: 1:39 - loss: 1.2490 - acc: 0.560 - ETA: 1:39 - loss: 1.2510 - acc: 0.560 - ETA: 1:38 - loss: 1.2496 - acc: 0.560 - ETA: 1:38 - loss: 1.2504 - acc: 0.560 - ETA: 1:38 - loss: 1.2502 - acc: 0.560 - ETA: 1:37 - loss: 1.2481 - acc: 0.560 - ETA: 1:37 - loss: 1.2449 - acc: 0.562 - ETA: 1:36 - loss: 1.2434 - acc: 0.562 - ETA: 1:36 - loss: 1.2441 - acc: 0.561 - ETA: 1:36 - loss: 1.2419 - acc: 0.563 - ETA: 1:35 - loss: 1.2416 - acc: 0.563 - ETA: 1:35 - loss: 1.2398 - acc: 0.563 - ETA: 1:34 - loss: 1.2427 - acc: 0.562 - ETA: 1:34 - loss: 1.2420 - acc: 0.562 - ETA: 1:33 - loss: 1.2420 - acc: 0.562 - ETA: 1:33 - loss: 1.2416 - acc: 0.563 - ETA: 1:32 - loss: 1.2409 - acc: 0.563 - ETA: 1:32 - loss: 1.2391 - acc: 0.563 - ETA: 1:31 - loss: 1.2391 - acc: 0.563 - ETA: 1:31 - loss: 1.2384 - acc: 0.564 - ETA: 1:30 - loss: 1.2386 - acc: 0.564 - ETA: 1:30 - loss: 1.2388 - acc: 0.564 - ETA: 1:29 - loss: 1.2359 - acc: 0.565 - ETA: 1:29 - loss: 1.2349 - acc: 0.565 - ETA: 1:28 - loss: 1.2349 - acc: 0.565 - ETA: 1:28 - loss: 1.2344 - acc: 0.565 - ETA: 1:27 - loss: 1.2347 - acc: 0.565 - ETA: 1:27 - loss: 1.2345 - acc: 0.565 - ETA: 1:26 - loss: 1.2337 - acc: 0.565 - ETA: 1:26 - loss: 1.2329 - acc: 0.565 - ETA: 1:25 - loss: 1.2331 - acc: 0.564 - ETA: 1:25 - loss: 1.2334 - acc: 0.564 - ETA: 1:25 - loss: 1.2336 - acc: 0.563 - ETA: 1:24 - loss: 1.2318 - acc: 0.564 - ETA: 1:24 - loss: 1.2311 - acc: 0.564 - ETA: 1:23 - loss: 1.2314 - acc: 0.563 - ETA: 1:23 - loss: 1.2312 - acc: 0.563 - ETA: 1:22 - loss: 1.2323 - acc: 0.562 - ETA: 1:22 - loss: 1.2334 - acc: 0.562 - ETA: 1:21 - loss: 1.2338 - acc: 0.562 - ETA: 1:21 - loss: 1.2343 - acc: 0.561 - ETA: 1:20 - loss: 1.2347 - acc: 0.561 - ETA: 1:20 - loss: 1.2338 - acc: 0.562 - ETA: 1:19 - loss: 1.2336 - acc: 0.561 - ETA: 1:19 - loss: 1.2336 - acc: 0.561 - ETA: 1:18 - loss: 1.2336 - acc: 0.561 - ETA: 1:18 - loss: 1.2346 - acc: 0.561 - ETA: 1:17 - loss: 1.2349 - acc: 0.561 - ETA: 1:17 - loss: 1.2350 - acc: 0.561 - ETA: 1:16 - loss: 1.2358 - acc: 0.561 - ETA: 1:16 - loss: 1.2356 - acc: 0.561 - ETA: 1:15 - loss: 1.2359 - acc: 0.561 - ETA: 1:15 - loss: 1.2356 - acc: 0.561 - ETA: 1:14 - loss: 1.2345 - acc: 0.561 - ETA: 1:14 - loss: 1.2342 - acc: 0.561 - ETA: 1:14 - loss: 1.2335 - acc: 0.561 - ETA: 1:13 - loss: 1.2339 - acc: 0.562 - ETA: 1:12 - loss: 1.2333 - acc: 0.562 - ETA: 1:12 - loss: 1.2322 - acc: 0.562 - ETA: 1:11 - loss: 1.2329 - acc: 0.561 - ETA: 1:11 - loss: 1.2328 - acc: 0.561 - ETA: 1:11 - loss: 1.2320 - acc: 0.562 - ETA: 1:10 - loss: 1.2317 - acc: 0.562 - ETA: 1:10 - loss: 1.2296 - acc: 0.563 - ETA: 1:09 - loss: 1.2288 - acc: 0.563 - ETA: 1:09 - loss: 1.2280 - acc: 0.563 - ETA: 1:08 - loss: 1.2268 - acc: 0.563 - ETA: 1:08 - loss: 1.2277 - acc: 0.564 - ETA: 1:07 - loss: 1.2282 - acc: 0.564 - ETA: 1:07 - loss: 1.2281 - acc: 0.563 - ETA: 1:06 - loss: 1.2279 - acc: 0.563 - ETA: 1:06 - loss: 1.2272 - acc: 0.563 - ETA: 1:05 - loss: 1.2272 - acc: 0.563 - ETA: 1:05 - loss: 1.2276 - acc: 0.563 - ETA: 1:04 - loss: 1.2271 - acc: 0.563 - ETA: 1:04 - loss: 1.2255 - acc: 0.564 - ETA: 1:03 - loss: 1.2263 - acc: 0.564 - ETA: 1:03 - loss: 1.2262 - acc: 0.564 - ETA: 1:02 - loss: 1.2262 - acc: 0.564 - ETA: 1:02 - loss: 1.2247 - acc: 0.564 - ETA: 1:01 - loss: 1.2243 - acc: 0.565 - ETA: 1:01 - loss: 1.2229 - acc: 0.565 - ETA: 1:00 - loss: 1.2229 - acc: 0.565 - ETA: 1:00 - loss: 1.2235 - acc: 0.565 - ETA: 59s - loss: 1.2239 - acc: 0.565 - ETA: 59s - loss: 1.2249 - acc: 0.56 - ETA: 58s - loss: 1.2249 - acc: 0.56 - ETA: 58s - loss: 1.2240 - acc: 0.56 - ETA: 57s - loss: 1.2234 - acc: 0.56 - ETA: 57s - loss: 1.2227 - acc: 0.56 - ETA: 56s - loss: 1.2214 - acc: 0.56 - ETA: 56s - loss: 1.2213 - acc: 0.56 - ETA: 55s - loss: 1.2209 - acc: 0.56 - ETA: 55s - loss: 1.2207 - acc: 0.56 - ETA: 54s - loss: 1.2196 - acc: 0.56 - ETA: 54s - loss: 1.2200 - acc: 0.56 - ETA: 53s - loss: 1.2190 - acc: 0.56 - ETA: 53s - loss: 1.2183 - acc: 0.56 - ETA: 52s - loss: 1.2190 - acc: 0.56 - ETA: 52s - loss: 1.2187 - acc: 0.56 - ETA: 51s - loss: 1.2184 - acc: 0.56 - ETA: 51s - loss: 1.2183 - acc: 0.56 - ETA: 50s - loss: 1.2184 - acc: 0.56 - ETA: 50s - loss: 1.2186 - acc: 0.56 - ETA: 49s - loss: 1.2183 - acc: 0.56 - ETA: 49s - loss: 1.2183 - acc: 0.56 - ETA: 48s - loss: 1.2176 - acc: 0.56 - ETA: 48s - loss: 1.2190 - acc: 0.56 - ETA: 47s - loss: 1.2178 - acc: 0.56 - ETA: 47s - loss: 1.2181 - acc: 0.56 - ETA: 46s - loss: 1.2181 - acc: 0.56 - ETA: 46s - loss: 1.2185 - acc: 0.56 - ETA: 45s - loss: 1.2181 - acc: 0.56 - ETA: 45s - loss: 1.2182 - acc: 0.56 - ETA: 44s - loss: 1.2173 - acc: 0.56 - ETA: 44s - loss: 1.2177 - acc: 0.56 - ETA: 43s - loss: 1.2175 - acc: 0.56 - ETA: 43s - loss: 1.2174 - acc: 0.56 - ETA: 42s - loss: 1.2174 - acc: 0.56 - ETA: 42s - loss: 1.2183 - acc: 0.56 - ETA: 41s - loss: 1.2183 - acc: 0.56 - ETA: 41s - loss: 1.2177 - acc: 0.56 - ETA: 40s - loss: 1.2172 - acc: 0.56 - ETA: 40s - loss: 1.2182 - acc: 0.56 - ETA: 39s - loss: 1.2182 - acc: 0.56 - ETA: 39s - loss: 1.2180 - acc: 0.56 - ETA: 38s - loss: 1.2171 - acc: 0.56 - ETA: 38s - loss: 1.2168 - acc: 0.56 - ETA: 37s - loss: 1.2165 - acc: 0.56 - ETA: 37s - loss: 1.2164 - acc: 0.56 - ETA: 36s - loss: 1.2164 - acc: 0.56 - ETA: 36s - loss: 1.2156 - acc: 0.56 - ETA: 35s - loss: 1.2156 - acc: 0.56 - ETA: 35s - loss: 1.2161 - acc: 0.56 - ETA: 34s - loss: 1.2159 - acc: 0.56 - ETA: 34s - loss: 1.2155 - acc: 0.56 - ETA: 33s - loss: 1.2149 - acc: 0.57 - ETA: 33s - loss: 1.2150 - acc: 0.57 - ETA: 32s - loss: 1.2144 - acc: 0.5700"
     ]
    },
    {
     "name": "stdout",
     "output_type": "stream",
     "text": [
      "35000/35000 [==============================] - ETA: 32s - loss: 1.2145 - acc: 0.56 - ETA: 31s - loss: 1.2143 - acc: 0.56 - ETA: 31s - loss: 1.2147 - acc: 0.57 - ETA: 30s - loss: 1.2143 - acc: 0.57 - ETA: 30s - loss: 1.2139 - acc: 0.57 - ETA: 29s - loss: 1.2134 - acc: 0.57 - ETA: 29s - loss: 1.2129 - acc: 0.57 - ETA: 28s - loss: 1.2135 - acc: 0.57 - ETA: 28s - loss: 1.2129 - acc: 0.57 - ETA: 27s - loss: 1.2127 - acc: 0.57 - ETA: 27s - loss: 1.2118 - acc: 0.57 - ETA: 26s - loss: 1.2113 - acc: 0.57 - ETA: 26s - loss: 1.2111 - acc: 0.57 - ETA: 25s - loss: 1.2106 - acc: 0.57 - ETA: 25s - loss: 1.2106 - acc: 0.57 - ETA: 24s - loss: 1.2104 - acc: 0.57 - ETA: 24s - loss: 1.2104 - acc: 0.57 - ETA: 23s - loss: 1.2101 - acc: 0.57 - ETA: 23s - loss: 1.2099 - acc: 0.57 - ETA: 22s - loss: 1.2096 - acc: 0.57 - ETA: 22s - loss: 1.2091 - acc: 0.57 - ETA: 21s - loss: 1.2083 - acc: 0.57 - ETA: 21s - loss: 1.2079 - acc: 0.57 - ETA: 20s - loss: 1.2076 - acc: 0.57 - ETA: 20s - loss: 1.2075 - acc: 0.57 - ETA: 19s - loss: 1.2069 - acc: 0.57 - ETA: 19s - loss: 1.2075 - acc: 0.57 - ETA: 18s - loss: 1.2073 - acc: 0.57 - ETA: 18s - loss: 1.2071 - acc: 0.57 - ETA: 17s - loss: 1.2072 - acc: 0.57 - ETA: 17s - loss: 1.2079 - acc: 0.57 - ETA: 16s - loss: 1.2073 - acc: 0.57 - ETA: 16s - loss: 1.2076 - acc: 0.57 - ETA: 15s - loss: 1.2069 - acc: 0.57 - ETA: 15s - loss: 1.2068 - acc: 0.57 - ETA: 14s - loss: 1.2064 - acc: 0.57 - ETA: 14s - loss: 1.2066 - acc: 0.57 - ETA: 14s - loss: 1.2060 - acc: 0.57 - ETA: 13s - loss: 1.2053 - acc: 0.57 - ETA: 13s - loss: 1.2051 - acc: 0.57 - ETA: 12s - loss: 1.2044 - acc: 0.57 - ETA: 12s - loss: 1.2043 - acc: 0.57 - ETA: 11s - loss: 1.2040 - acc: 0.57 - ETA: 11s - loss: 1.2044 - acc: 0.57 - ETA: 10s - loss: 1.2039 - acc: 0.57 - ETA: 10s - loss: 1.2041 - acc: 0.57 - ETA: 9s - loss: 1.2038 - acc: 0.5738 - ETA: 9s - loss: 1.2037 - acc: 0.573 - ETA: 8s - loss: 1.2044 - acc: 0.573 - ETA: 8s - loss: 1.2046 - acc: 0.573 - ETA: 7s - loss: 1.2040 - acc: 0.573 - ETA: 7s - loss: 1.2039 - acc: 0.573 - ETA: 6s - loss: 1.2034 - acc: 0.573 - ETA: 6s - loss: 1.2041 - acc: 0.573 - ETA: 5s - loss: 1.2042 - acc: 0.573 - ETA: 5s - loss: 1.2042 - acc: 0.573 - ETA: 4s - loss: 1.2041 - acc: 0.573 - ETA: 4s - loss: 1.2041 - acc: 0.573 - ETA: 3s - loss: 1.2039 - acc: 0.573 - ETA: 3s - loss: 1.2032 - acc: 0.574 - ETA: 2s - loss: 1.2034 - acc: 0.574 - ETA: 2s - loss: 1.2035 - acc: 0.573 - ETA: 1s - loss: 1.2036 - acc: 0.573 - ETA: 1s - loss: 1.2022 - acc: 0.574 - ETA: 0s - loss: 1.2021 - acc: 0.574 - ETA: 0s - loss: 1.2017 - acc: 0.574 - 154s 4ms/sample - loss: 1.2014 - acc: 0.5742 - val_loss: 1.0928 - val_acc: 0.6161\n"
     ]
    },
    {
     "data": {
      "text/plain": [
       "<tensorflow.python.keras.callbacks.History at 0x17a4b3713c8>"
      ]
     },
     "execution_count": 51,
     "metadata": {},
     "output_type": "execute_result"
    }
   ],
   "source": [
    "model.fit(X_train, y_train, batch_size=128, epochs=3, validation_split=0.3)"
   ]
  },
  {
   "cell_type": "code",
   "execution_count": 52,
   "metadata": {},
   "outputs": [],
   "source": [
    "model.save('ImageClass')"
   ]
  },
  {
   "cell_type": "code",
   "execution_count": 53,
   "metadata": {},
   "outputs": [
    {
     "data": {
      "text/plain": [
       "<matplotlib.axes._subplots.AxesSubplot at 0x17a4d8eafd0>"
      ]
     },
     "execution_count": 53,
     "metadata": {},
     "output_type": "execute_result"
    },
    {
     "data": {
      "image/png": "[encoded data removed]",
      "text/plain": [
       "<Figure size 432x288 with 1 Axes>"
      ]
     },
     "metadata": {
      "image/png": {
       "height": 250,
       "width": 383
      },
      "needs_background": "light"
     },
     "output_type": "display_data"
    }
   ],
   "source": [
    "import pandas as pd\n",
    "losses = pd.DataFrame(model.history.history)\n",
    "losses.plot()"
   ]
  },
  {
   "cell_type": "code",
   "execution_count": 54,
   "metadata": {},
   "outputs": [],
   "source": [
    "import tensorflow\n",
    "new_model = tensorflow.keras.models.load_model('ImageClass')"
   ]
  },
  {
   "cell_type": "markdown",
   "metadata": {},
   "source": [
    "### Now test based on predictions"
   ]
  },
  {
   "cell_type": "code",
   "execution_count": 55,
   "metadata": {},
   "outputs": [],
   "source": [
    "preds = new_model.predict(X_test)"
   ]
  },
  {
   "cell_type": "code",
   "execution_count": 56,
   "metadata": {},
   "outputs": [
    {
     "data": {
      "text/plain": [
       "b'ship'"
      ]
     },
     "execution_count": 56,
     "metadata": {},
     "output_type": "execute_result"
    }
   ],
   "source": [
    "batch_meta[b\"label_names\"][(np.argmax(preds[1]))]"
   ]
  },
  {
   "cell_type": "code",
   "execution_count": 57,
   "metadata": {},
   "outputs": [
    {
     "data": {
      "image/png": "[encoded data removed]",
      "text/plain": [
       "<Figure size 432x288 with 1 Axes>"
      ]
     },
     "metadata": {
      "image/png": {
       "height": 250,
       "width": 253
      },
      "needs_background": "light"
     },
     "output_type": "display_data"
    }
   ],
   "source": [
    "plt.imshow(X_test[1],cmap=plt.cm.binary)\n",
    "plt.show()"
   ]
  },
  {
   "cell_type": "code",
   "execution_count": 58,
   "metadata": {},
   "outputs": [
    {
     "data": {
      "text/plain": [
       "b'airplane'"
      ]
     },
     "execution_count": 58,
     "metadata": {},
     "output_type": "execute_result"
    }
   ],
   "source": [
    "batch_meta[b\"label_names\"][(np.argmax(preds[10]))]"
   ]
  },
  {
   "cell_type": "code",
   "execution_count": 59,
   "metadata": {},
   "outputs": [
    {
     "data": {
      "image/png": "[encoded data removed]",
      "text/plain": [
       "<Figure size 432x288 with 1 Axes>"
      ]
     },
     "metadata": {
      "image/png": {
       "height": 250,
       "width": 253
      },
      "needs_background": "light"
     },
     "output_type": "display_data"
    }
   ],
   "source": [
    "plt.imshow(X_test[10],cmap=plt.cm.binary)\n",
    "plt.show()"
   ]
  },
  {
   "cell_type": "markdown",
   "metadata": {},
   "source": []
  },
  {
   "cell_type": "markdown",
   "metadata": {},
   "source": [
    "## Thank you!!!"
   ]
  }
 ],
 "metadata": {
  "kernelspec": {
   "display_name": "Python 3",
   "language": "python",
   "name": "python3"
  },
  "language_info": {
   "codemirror_mode": {
    "name": "ipython",
    "version": 3
   },
   "file_extension": ".py",
   "mimetype": "text/x-python",
   "name": "python",
   "nbconvert_exporter": "python",
   "pygments_lexer": "ipython3",
   "version": "3.7.3"
  }
 },
 "nbformat": 4,
 "nbformat_minor": 2
}
